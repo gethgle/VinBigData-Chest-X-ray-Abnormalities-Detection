{
  "nbformat": 4,
  "nbformat_minor": 0,
  "metadata": {
    "colab": {
      "name": "Productionization.ipynb",
      "provenance": [],
      "collapsed_sections": []
    },
    "kernelspec": {
      "name": "python3",
      "display_name": "Python 3"
    },
    "language_info": {
      "name": "python"
    },
    "accelerator": "GPU"
  },
  "cells": [
    {
      "cell_type": "code",
      "metadata": {
        "colab": {
          "base_uri": "https://localhost:8080/"
        },
        "id": "i5eD0vaTLsIW",
        "outputId": "1dea3a20-8bec-4179-9840-958051f71d3f"
      },
      "source": [
        "!pip install pydicom"
      ],
      "execution_count": 14,
      "outputs": [
        {
          "output_type": "stream",
          "text": [
            "Requirement already satisfied: pydicom in /usr/local/lib/python3.7/dist-packages (2.1.2)\n"
          ],
          "name": "stdout"
        }
      ]
    },
    {
      "cell_type": "code",
      "metadata": {
        "colab": {
          "base_uri": "https://localhost:8080/"
        },
        "id": "Tf0q3U5TQSWQ",
        "outputId": "ffd2eba6-ebb2-48e1-990d-4ce920a4928d"
      },
      "source": [
        "# Download efficientnets \n",
        "!pip install keras_efficientnets "
      ],
      "execution_count": 15,
      "outputs": [
        {
          "output_type": "stream",
          "text": [
            "Requirement already satisfied: keras_efficientnets in /usr/local/lib/python3.7/dist-packages (0.1.7)\n",
            "Requirement already satisfied: keras>=2.2.4 in /usr/local/lib/python3.7/dist-packages (from keras_efficientnets) (2.4.3)\n",
            "Requirement already satisfied: scikit-learn>=0.21.2 in /usr/local/lib/python3.7/dist-packages (from keras_efficientnets) (0.22.2.post1)\n",
            "Requirement already satisfied: scipy>=1.1.0 in /usr/local/lib/python3.7/dist-packages (from keras_efficientnets) (1.4.1)\n",
            "Requirement already satisfied: pyyaml in /usr/local/lib/python3.7/dist-packages (from keras>=2.2.4->keras_efficientnets) (3.13)\n",
            "Requirement already satisfied: numpy>=1.9.1 in /usr/local/lib/python3.7/dist-packages (from keras>=2.2.4->keras_efficientnets) (1.19.5)\n",
            "Requirement already satisfied: h5py in /usr/local/lib/python3.7/dist-packages (from keras>=2.2.4->keras_efficientnets) (2.10.0)\n",
            "Requirement already satisfied: joblib>=0.11 in /usr/local/lib/python3.7/dist-packages (from scikit-learn>=0.21.2->keras_efficientnets) (1.0.1)\n",
            "Requirement already satisfied: six in /usr/local/lib/python3.7/dist-packages (from h5py->keras>=2.2.4->keras_efficientnets) (1.15.0)\n"
          ],
          "name": "stdout"
        }
      ]
    },
    {
      "cell_type": "code",
      "metadata": {
        "colab": {
          "base_uri": "https://localhost:8080/"
        },
        "id": "lbeVKKoDQW0B",
        "outputId": "570d8a7c-7846-4a5c-d838-628b80a6517c"
      },
      "source": [
        "!pip install Keras-Applications"
      ],
      "execution_count": 16,
      "outputs": [
        {
          "output_type": "stream",
          "text": [
            "Requirement already satisfied: Keras-Applications in /usr/local/lib/python3.7/dist-packages (1.0.8)\n",
            "Requirement already satisfied: h5py in /usr/local/lib/python3.7/dist-packages (from Keras-Applications) (2.10.0)\n",
            "Requirement already satisfied: numpy>=1.9.1 in /usr/local/lib/python3.7/dist-packages (from Keras-Applications) (1.19.5)\n",
            "Requirement already satisfied: six in /usr/local/lib/python3.7/dist-packages (from h5py->Keras-Applications) (1.15.0)\n"
          ],
          "name": "stdout"
        }
      ]
    },
    {
      "cell_type": "code",
      "metadata": {
        "id": "LZRug26bneDd"
      },
      "source": [
        "import matplotlib.pyplot as plt\n",
        "import numpy as np\n",
        "import pandas as pd\n",
        "import tensorflow as tf\n",
        "from PIL import Image\n",
        "import pydicom\n",
        "from pydicom.pixel_data_handlers.util import apply_voi_lut\n",
        "import os\n",
        "from google.colab import files\n",
        "import matplotlib.image as mpimg\n",
        "#import data\n",
        "\n",
        "# tensoflow models\n",
        "import tensorflow as tf\n",
        "from keras import Sequential\n",
        "from tensorflow import keras\n",
        "from tensorflow.keras.preprocessing.image import ImageDataGenerator\n",
        "from tensorflow.keras.layers import Conv2D, MaxPooling2D\n",
        "from tensorflow.keras.layers import Dense, Dropout, Flatten, Activation\n",
        "from tensorflow.keras.models import Sequential\n",
        "from tensorflow.keras.callbacks import EarlyStopping, ReduceLROnPlateau, ModelCheckpoint\n",
        "from tensorflow.keras.optimizers import Adam\n",
        "from keras_efficientnets import EfficientNetB0\n",
        "from keras.utils import to_categorical\n",
        "from keras_efficientnets import EfficientNetB0\n",
        "from keras.models import load_model"
      ],
      "execution_count": 17,
      "outputs": []
    },
    {
      "cell_type": "code",
      "metadata": {
        "colab": {
          "base_uri": "https://localhost:8080/"
        },
        "id": "RVtZAmPuNrkT",
        "outputId": "66238730-618a-4a43-cc51-dc7d9fb9a363"
      },
      "source": [
        "#Its is my working directory, pleas changes as per you\n",
        "%cd /content/drive/MyDrive/Self case study 2 "
      ],
      "execution_count": 18,
      "outputs": [
        {
          "output_type": "stream",
          "text": [
            "/content/drive/MyDrive/Self case study 2\n"
          ],
          "name": "stdout"
        }
      ]
    },
    {
      "cell_type": "markdown",
      "metadata": {
        "id": "fh-tsUB7T5FM"
      },
      "source": [
        "**Enter a X-ray images ID to Predict lung disease on a image**"
      ]
    },
    {
      "cell_type": "code",
      "metadata": {
        "colab": {
          "base_uri": "https://localhost:8080/"
        },
        "id": "_-w7q6bXR10h",
        "outputId": "916b940a-2f63-499d-e551-b371b7aff3e9"
      },
      "source": [
        "# image id shoud be without file extension\n",
        "img_file = input(\"Input X-ray images ID to Predict lung disease:\")"
      ],
      "execution_count": 19,
      "outputs": [
        {
          "output_type": "stream",
          "text": [
            "Input X-ray images ID to Predict lung disease:009bc039326338823ca3aa84381f17f1.dicom\n"
          ],
          "name": "stdout"
        }
      ]
    },
    {
      "cell_type": "markdown",
      "metadata": {
        "id": "mvHaOGRkUbRs"
      },
      "source": [
        "**Befor predicting, please upload the image into floder** (file format is Dicom)\n",
        "\n",
        "Please upload image into 'Test_files' directory"
      ]
    },
    {
      "cell_type": "code",
      "metadata": {
        "id": "HtwEKEmST3vn"
      },
      "source": [
        "# we can load the image directly,It is very slow\n",
        "#from google.colab import files\n",
        "#uploaded = files.upload()"
      ],
      "execution_count": 20,
      "outputs": []
    },
    {
      "cell_type": "code",
      "metadata": {
        "id": "YdO3te6uXv_O"
      },
      "source": [
        "os.makedirs(\"Test_files\", exist_ok=True) "
      ],
      "execution_count": 21,
      "outputs": []
    },
    {
      "cell_type": "code",
      "metadata": {
        "id": "gPr4ua99U2pY"
      },
      "source": [
        "load_dir = '/content/drive/MyDrive/Self case study 2/'"
      ],
      "execution_count": 22,
      "outputs": []
    },
    {
      "cell_type": "code",
      "metadata": {
        "id": "7OtqvGctUBlA"
      },
      "source": [
        "# https://www.kaggle.com/raddar/convert-dicom-to-np-array-the-correct-way\n",
        "def read_xray(path, voi_lut = True, fix_monochrome = True):\n",
        "  dicom = pydicom.read_file(path)\n",
        "  # VOI LUT (if available by DICOM device) is used to transform raw DICOM data to \"human-friendly\" view\n",
        "  if voi_lut:\n",
        "    data = apply_voi_lut(dicom.pixel_array, dicom)\n",
        "  else:\n",
        "    data = dicom.pixel_array       \n",
        "  # depending on this value, X-ray may look inverted - fix that:\n",
        "  if fix_monochrome and dicom.PhotometricInterpretation == \"MONOCHROME1\":\n",
        "    data = np.amax(data) - data\n",
        "  data = data - np.min(data)\n",
        "  data = data / np.max(data)\n",
        "  data = (data * 255).astype(np.uint8) \n",
        "  return data\n",
        "# Original from: https://www.kaggle.com/xhlulu/vinbigdata-process-and-resize-to-image\n",
        "def resize(array, size, keep_ratio=False, resample=Image.LANCZOS):\n",
        "    im = Image.fromarray(array)\n",
        "    if keep_ratio:\n",
        "        im.thumbnail((size, size), resample)\n",
        "    else:\n",
        "        im = im.resize((size, size), resample)\n",
        "    return im\n",
        "def img_conv(load_dir,img_file,size =512):\n",
        "  dec_path = os.path.join(load_dir, \"Test_files\")\n",
        "  xray = read_xray(os.path.join(dec_path,img_file))\n",
        "  im = resize(xray, size, keep_ratio=True)\n",
        "  os.makedirs(os.path.join(load_dir,'Test_png'), exist_ok=True)\n",
        "  png_path = os.path.join(load_dir, \"Test_png\") \n",
        "  im.save(os.path.join(png_path,img_file.replace('dicom', 'png'))) "
      ],
      "execution_count": 23,
      "outputs": []
    },
    {
      "cell_type": "code",
      "metadata": {
        "colab": {
          "base_uri": "https://localhost:8080/"
        },
        "id": "Rp8ByQr2Ueez",
        "outputId": "69bc5bd0-8496-4550-f0c2-02ca111dae01"
      },
      "source": [
        "IMG_WIDTH, IMG_HEIGHT =224,224\n",
        "#Defining the model\n",
        "model= Sequential()\n",
        "base_model = EfficientNetB0(include_top=False, weights=\"imagenet\", input_shape=(IMG_WIDTH, IMG_HEIGHT, 3),classes=2)\n",
        "model.add(base_model)\n",
        "model.add(Flatten())\n",
        "model.add(Dense(256,activation=('relu'))) \n",
        "model.add(Dropout(.3))\n",
        "model.add(Dense(128,activation=('relu')))\n",
        "model.add(Dropout(.2))\n",
        "model.add(Dense(2,activation=('softmax'))) \n",
        "#Model summary\n",
        "model.summary()"
      ],
      "execution_count": 24,
      "outputs": [
        {
          "output_type": "stream",
          "text": [
            "Model: \"sequential_1\"\n",
            "_________________________________________________________________\n",
            "Layer (type)                 Output Shape              Param #   \n",
            "=================================================================\n",
            "model_1 (Functional)         (None, 7, 7, 1280)        4049564   \n",
            "_________________________________________________________________\n",
            "flatten_1 (Flatten)          (None, 62720)             0         \n",
            "_________________________________________________________________\n",
            "dense_3 (Dense)              (None, 256)               16056576  \n",
            "_________________________________________________________________\n",
            "dropout_2 (Dropout)          (None, 256)               0         \n",
            "_________________________________________________________________\n",
            "dense_4 (Dense)              (None, 128)               32896     \n",
            "_________________________________________________________________\n",
            "dropout_3 (Dropout)          (None, 128)               0         \n",
            "_________________________________________________________________\n",
            "dense_5 (Dense)              (None, 2)                 258       \n",
            "=================================================================\n",
            "Total params: 20,139,294\n",
            "Trainable params: 20,097,278\n",
            "Non-trainable params: 42,016\n",
            "_________________________________________________________________\n"
          ],
          "name": "stdout"
        }
      ]
    },
    {
      "cell_type": "code",
      "metadata": {
        "id": "NU8tAR17jJoE"
      },
      "source": [
        "def class_pred(img_file):\n",
        "  img_conv(load_dir,img_file,size =512) \n",
        "  png_path = os.path.join(load_dir, \"Test_png\")\n",
        "  test =[] \n",
        "  for f_name in os.listdir(png_path):\n",
        "    test.append(f_name)\n",
        "  #create new df \n",
        "  test_df = pd.DataFrame({'img_id':test}) \n",
        "  test_df= test_df[test_df['img_id']== img_file.replace('dicom', 'png')]\n",
        "  model_path= '/content/drive/MyDrive/Self case study 2/models'\n",
        "  model_name = 'best_model.h5'\n",
        "  # load pretrained weights \n",
        "  wig_path = os.path.join(model_path,model_name) \n",
        "  pred_model= model.load_weights(wig_path)\n",
        "  # create pipleline on test data\n",
        "  test_datagen = ImageDataGenerator(rescale=1/255)\n",
        "  test_generator=test_datagen.flow_from_dataframe(dataframe=test_df,directory='/content/drive/MyDrive/Self case study 2/Test_png',\n",
        "                                           x_col=\"img_id\",\n",
        "                                           y_col=None,seed=42,shuffle=False,\n",
        "                                           target_size=(IMG_WIDTH, IMG_HEIGHT),\n",
        "                                           class_mode=None)\n",
        "  predict = model.predict_generator(test_generator,steps =1,verbose=1) \n",
        "  print(\"Probability that a person with Abnormal lung condition: {:5.2f}%\".format(predict[0][0]*100))\n",
        "  print(\"Probability that a person with Normal lung condition: {:5.2f}%\".format(predict[0][1]*100)) \n",
        "  return predict \n"
      ],
      "execution_count": 25,
      "outputs": []
    },
    {
      "cell_type": "code",
      "metadata": {
        "colab": {
          "base_uri": "https://localhost:8080/"
        },
        "id": "6O4VrOEokUid",
        "outputId": "d815432d-8f58-4e31-e4c1-037fe72cc17d"
      },
      "source": [
        "class_pred(img_file)"
      ],
      "execution_count": 26,
      "outputs": [
        {
          "output_type": "stream",
          "text": [
            "Found 1 validated image filenames.\n"
          ],
          "name": "stdout"
        },
        {
          "output_type": "stream",
          "text": [
            "/usr/local/lib/python3.7/dist-packages/tensorflow/python/keras/engine/training.py:1905: UserWarning: `Model.predict_generator` is deprecated and will be removed in a future version. Please use `Model.predict`, which supports generators.\n",
            "  warnings.warn('`Model.predict_generator` is deprecated and '\n"
          ],
          "name": "stderr"
        },
        {
          "output_type": "stream",
          "text": [
            "1/1 [==============================] - 31s 31s/step\n",
            "Probability that a person with Abnormal lung condition: 80.17%\n",
            "Probability that a person with Normal lung condition: 19.83%\n"
          ],
          "name": "stdout"
        },
        {
          "output_type": "execute_result",
          "data": {
            "text/plain": [
              "array([[0.8016621 , 0.19833793]], dtype=float32)"
            ]
          },
          "metadata": {
            "tags": []
          },
          "execution_count": 26
        }
      ]
    },
    {
      "cell_type": "code",
      "metadata": {
        "id": "q8SASyQ_yy_G"
      },
      "source": [
        "png_path = os.path.join(load_dir, \"Test_png\",img_file.replace('dicom', 'png'))\n",
        "low_thr  = 0.08\n",
        "high_thr = 0.80 \n",
        "def filter_2cls(img_file, low_thr=low_thr, high_thr=high_thr):\n",
        "  model_pred = class_pred(img_file)\n",
        "  prob = model_pred[0][0]\n",
        "  if prob<low_thr:\n",
        "    print(\"Less chance of having any disease: {:5.2f}%\".format(prob*100)) \n",
        "    img = mpimg.imread(png_path)\n",
        "    plt.imshow(img,cmap=\"Spectral\")\n",
        "  elif low_thr<=prob<high_thr:\n",
        "      ## More change of having any diesease\n",
        "      print(\"change of having diesease: {:5.2f}%\".format(prob*100)) \n",
        "      img = mpimg.imread(png_path)\n",
        "      plt.imshow(img,cmap=\"Spectral\")\n",
        "  else:\n",
        "      print(\"Good chance of having disease so believe in object detection model:{:5.2f}%\".format(prob*100))\n",
        "      %cd yolov5 \n",
        "      !python detect.py --weights '/content/drive/MyDrive/Self case study 2/yolov5/runs/train/yolov5x_Xray11/weights/best.pt' --img 512 --conf 0.25 --source '/content/drive/MyDrive/Self case study 2/Test_png/{img_file.replace('dicom', 'png')}'\n",
        "      img = mpimg.imread('/content/drive/MyDrive/Self case study 2/yolov5/runs/detect/exp3/009bc039326338823ca3aa84381f17f1.png')\n",
        "      plt.imshow(img,cmap=\"Spectral\")"
      ],
      "execution_count": 29,
      "outputs": []
    },
    {
      "cell_type": "code",
      "metadata": {
        "colab": {
          "base_uri": "https://localhost:8080/",
          "height": 574
        },
        "id": "aCFb5yGB1Lrl",
        "outputId": "bd3dc327-2d2e-446d-d2c8-36020760a1c2"
      },
      "source": [
        "filter_2cls(img_file)"
      ],
      "execution_count": 30,
      "outputs": [
        {
          "output_type": "stream",
          "text": [
            "Found 1 validated image filenames.\n",
            "1/1 [==============================] - 0s 38ms/step\n",
            "Probability that a person with Abnormal lung condition: 80.17%\n",
            "Probability that a person with Normal lung condition: 19.83%\n",
            "Good chance of having disease so believe in object detection model:80.17%\n",
            "[Errno 2] No such file or directory: 'yolov5'\n",
            "/content/drive/MyDrive/Self case study 2/yolov5\n"
          ],
          "name": "stdout"
        },
        {
          "output_type": "stream",
          "text": [
            "/usr/local/lib/python3.7/dist-packages/tensorflow/python/keras/engine/training.py:1905: UserWarning: `Model.predict_generator` is deprecated and will be removed in a future version. Please use `Model.predict`, which supports generators.\n",
            "  warnings.warn('`Model.predict_generator` is deprecated and '\n"
          ],
          "name": "stderr"
        },
        {
          "output_type": "stream",
          "text": [
            "Namespace(agnostic_nms=False, augment=False, classes=None, conf_thres=0.25, device='', exist_ok=False, img_size=512, iou_thres=0.45, name='exp', nosave=False, project='runs/detect', save_conf=False, save_txt=False, source='/content/drive/MyDrive/Self case study 2/Test_png/009bc039326338823ca3aa84381f17f1.png', update=False, view_img=False, weights=['/content/drive/MyDrive/Self case study 2/yolov5/runs/train/yolov5x_Xray11/weights/best.pt'])\n",
            "YOLOv5 🚀 2021-4-9 torch 1.8.1+cu101 CUDA:0 (Tesla P100-PCIE-16GB, 16280.875MB)\n",
            "\n",
            "Fusing layers... \n",
            "Model Summary: 224 layers, 7088971 parameters, 0 gradients\n",
            "image 1/1 /content/drive/MyDrive/Self case study 2/Test_png/009bc039326338823ca3aa84381f17f1.png: 512x448 1 Aortic enlargement, 1 Cardiomegaly, Done. (0.011s)\n",
            "Results saved to runs/detect/exp3\n",
            "Done. (0.032s)\n"
          ],
          "name": "stdout"
        },
        {
          "output_type": "display_data",
          "data": {
            "image/png": "[encoded data removed]",
            "text/plain": [
              "<Figure size 432x288 with 1 Axes>"
            ]
          },
          "metadata": {
            "tags": [],
            "needs_background": "light"
          }
        }
      ]
    }
  ]
}