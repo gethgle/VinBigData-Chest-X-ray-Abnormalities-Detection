{
 "cells": [
  {
   "cell_type": "markdown",
   "id": "concerned-adaptation",
   "metadata": {
    "id": "oaNuwXr3T-3X",
    "papermill": {
     "duration": 0.025148,
     "end_time": "2021-04-22T18:56:42.760068",
     "exception": false,
     "start_time": "2021-04-22T18:56:42.734920",
     "status": "completed"
    },
    "tags": []
   },
   "source": [
    "# Data processing"
   ]
  },
  {
   "cell_type": "code",
   "execution_count": 1,
   "id": "stunning-batman",
   "metadata": {
    "execution": {
     "iopub.execute_input": "2021-04-22T18:56:42.812772Z",
     "iopub.status.busy": "2021-04-22T18:56:42.811264Z",
     "iopub.status.idle": "2021-04-22T18:56:44.134042Z",
     "shell.execute_reply": "2021-04-22T18:56:44.133469Z"
    },
    "id": "-ZwB5qT1qNRy",
    "outputId": "411e7e3b-316f-4afe-d7fb-6246c2ed1bf8",
    "papermill": {
     "duration": 1.35041,
     "end_time": "2021-04-22T18:56:44.134189",
     "exception": false,
     "start_time": "2021-04-22T18:56:42.783779",
     "status": "completed"
    },
    "tags": []
   },
   "outputs": [
    {
     "name": "stdout",
     "output_type": "stream",
     "text": [
      "Thu Apr 22 18:56:43 2021       \r\n",
      "+-----------------------------------------------------------------------------+\r\n",
      "| NVIDIA-SMI 450.51.06    Driver Version: 450.51.06    CUDA Version: 11.0     |\r\n",
      "|-------------------------------+----------------------+----------------------+\r\n",
      "| GPU  Name        Persistence-M| Bus-Id        Disp.A | Volatile Uncorr. ECC |\r\n",
      "| Fan  Temp  Perf  Pwr:Usage/Cap|         Memory-Usage | GPU-Util  Compute M. |\r\n",
      "|                               |                      |               MIG M. |\r\n",
      "|===============================+======================+======================|\r\n",
      "|   0  Tesla P100-PCIE...  Off  | 00000000:00:04.0 Off |                    0 |\r\n",
      "| N/A   40C    P0    28W / 250W |      0MiB / 16280MiB |      0%      Default |\r\n",
      "|                               |                      |                  N/A |\r\n",
      "+-------------------------------+----------------------+----------------------+\r\n",
      "                                                                               \r\n",
      "+-----------------------------------------------------------------------------+\r\n",
      "| Processes:                                                                  |\r\n",
      "|  GPU   GI   CI        PID   Type   Process name                  GPU Memory |\r\n",
      "|        ID   ID                                                   Usage      |\r\n",
      "|=============================================================================|\r\n",
      "|  No running processes found                                                 |\r\n",
      "+-----------------------------------------------------------------------------+\r\n"
     ]
    }
   ],
   "source": [
    "!nvidia-smi"
   ]
  },
  {
   "cell_type": "code",
   "execution_count": 2,
   "id": "together-marks",
   "metadata": {
    "execution": {
     "iopub.execute_input": "2021-04-22T18:56:44.187014Z",
     "iopub.status.busy": "2021-04-22T18:56:44.186270Z",
     "iopub.status.idle": "2021-04-22T18:56:54.097690Z",
     "shell.execute_reply": "2021-04-22T18:56:54.096766Z"
    },
    "id": "BgChbd-ARR3i",
    "papermill": {
     "duration": 9.939149,
     "end_time": "2021-04-22T18:56:54.097841",
     "exception": false,
     "start_time": "2021-04-22T18:56:44.158692",
     "status": "completed"
    },
    "tags": []
   },
   "outputs": [
    {
     "name": "stdout",
     "output_type": "stream",
     "text": [
      "Collecting keras_efficientnets\r\n",
      "  Downloading keras_efficientnets-0.1.7-py2.py3-none-any.whl (15 kB)\r\n",
      "Requirement already satisfied: keras>=2.2.4 in /opt/conda/lib/python3.7/site-packages (from keras_efficientnets) (2.4.3)\r\n",
      "Requirement already satisfied: scikit-learn>=0.21.2 in /opt/conda/lib/python3.7/site-packages (from keras_efficientnets) (0.24.1)\r\n",
      "Requirement already satisfied: scipy>=1.1.0 in /opt/conda/lib/python3.7/site-packages (from keras_efficientnets) (1.5.4)\r\n",
      "Requirement already satisfied: h5py in /opt/conda/lib/python3.7/site-packages (from keras>=2.2.4->keras_efficientnets) (2.10.0)\r\n",
      "Requirement already satisfied: numpy>=1.9.1 in /opt/conda/lib/python3.7/site-packages (from keras>=2.2.4->keras_efficientnets) (1.19.5)\r\n",
      "Requirement already satisfied: pyyaml in /opt/conda/lib/python3.7/site-packages (from keras>=2.2.4->keras_efficientnets) (5.3.1)\r\n",
      "Requirement already satisfied: joblib>=0.11 in /opt/conda/lib/python3.7/site-packages (from scikit-learn>=0.21.2->keras_efficientnets) (1.0.1)\r\n",
      "Requirement already satisfied: threadpoolctl>=2.0.0 in /opt/conda/lib/python3.7/site-packages (from scikit-learn>=0.21.2->keras_efficientnets) (2.1.0)\r\n",
      "Requirement already satisfied: six in /opt/conda/lib/python3.7/site-packages (from h5py->keras>=2.2.4->keras_efficientnets) (1.15.0)\r\n",
      "Installing collected packages: keras-efficientnets\r\n",
      "Successfully installed keras-efficientnets-0.1.7\r\n"
     ]
    }
   ],
   "source": [
    "# Download efficientnets \n",
    "!pip install keras_efficientnets "
   ]
  },
  {
   "cell_type": "code",
   "execution_count": 3,
   "id": "reliable-prime",
   "metadata": {
    "execution": {
     "iopub.execute_input": "2021-04-22T18:56:54.157182Z",
     "iopub.status.busy": "2021-04-22T18:56:54.156267Z",
     "iopub.status.idle": "2021-04-22T18:57:02.064140Z",
     "shell.execute_reply": "2021-04-22T18:57:02.063594Z"
    },
    "id": "ar2b42tFRv4E",
    "papermill": {
     "duration": 7.940736,
     "end_time": "2021-04-22T18:57:02.064275",
     "exception": false,
     "start_time": "2021-04-22T18:56:54.123539",
     "status": "completed"
    },
    "tags": []
   },
   "outputs": [
    {
     "name": "stdout",
     "output_type": "stream",
     "text": [
      "Collecting Keras-Applications\r\n",
      "  Downloading Keras_Applications-1.0.8-py3-none-any.whl (50 kB)\r\n",
      "\u001b[K     |████████████████████████████████| 50 kB 272 kB/s \r\n",
      "\u001b[?25hRequirement already satisfied: h5py in /opt/conda/lib/python3.7/site-packages (from Keras-Applications) (2.10.0)\r\n",
      "Requirement already satisfied: numpy>=1.9.1 in /opt/conda/lib/python3.7/site-packages (from Keras-Applications) (1.19.5)\r\n",
      "Requirement already satisfied: six in /opt/conda/lib/python3.7/site-packages (from h5py->Keras-Applications) (1.15.0)\r\n",
      "Installing collected packages: Keras-Applications\r\n",
      "Successfully installed Keras-Applications-1.0.8\r\n"
     ]
    }
   ],
   "source": [
    "#Keras Applications is the applications module of the Keras deep learning library. It provides model definitions and pre-trained weights for a number of popular archictures, such as VGG16, ResNet50, Xception, MobileNet, and more.\n",
    "!pip install Keras-Applications"
   ]
  },
  {
   "cell_type": "code",
   "execution_count": 4,
   "id": "surprising-pendant",
   "metadata": {
    "execution": {
     "iopub.execute_input": "2021-04-22T18:57:02.127481Z",
     "iopub.status.busy": "2021-04-22T18:57:02.126704Z",
     "iopub.status.idle": "2021-04-22T18:57:08.729337Z",
     "shell.execute_reply": "2021-04-22T18:57:08.728667Z"
    },
    "id": "1hHjfR3RHFNh",
    "papermill": {
     "duration": 6.637397,
     "end_time": "2021-04-22T18:57:08.729511",
     "exception": false,
     "start_time": "2021-04-22T18:57:02.092114",
     "status": "completed"
    },
    "tags": []
   },
   "outputs": [],
   "source": [
    "#importing other required libraries\n",
    "import numpy as np\n",
    "import pandas as pd\n",
    "from sklearn.utils.multiclass import unique_labels\n",
    "import os\n",
    "import matplotlib.pyplot as plt\n",
    "import matplotlib.image as mpimg\n",
    "import seaborn as sns\n",
    "import itertools\n",
    "from tqdm import tqdm\n",
    "import shutil\n",
    "from sklearn.model_selection import train_test_split\n",
    "from sklearn.metrics import confusion_matrix\n",
    "\n",
    "#Onehot Encoding the labels.\n",
    "from sklearn.utils.multiclass import unique_labels\n",
    "import albumentations\n",
    "from sklearn.metrics import classification_report, confusion_matrix\n",
    "\n",
    "\n",
    "\n",
    "# tensoflow models\n",
    "import tensorflow as tf\n",
    "from keras import Sequential\n",
    "from tensorflow import keras\n",
    "from tensorflow.keras.preprocessing.image import ImageDataGenerator\n",
    "from tensorflow.keras.layers import Conv2D, MaxPooling2D\n",
    "from tensorflow.keras.layers import Dense, Dropout, Flatten, Activation\n",
    "from tensorflow.keras.models import Sequential\n",
    "from tensorflow.keras.callbacks import EarlyStopping, ReduceLROnPlateau, ModelCheckpoint\n",
    "from tensorflow.keras.optimizers import Adam\n",
    "from keras_efficientnets import EfficientNetB0\n",
    "from keras.utils import to_categorical"
   ]
  },
  {
   "cell_type": "code",
   "execution_count": 5,
   "id": "closing-contract",
   "metadata": {
    "execution": {
     "iopub.execute_input": "2021-04-22T18:57:08.845396Z",
     "iopub.status.busy": "2021-04-22T18:57:08.843597Z",
     "iopub.status.idle": "2021-04-22T18:57:08.846522Z",
     "shell.execute_reply": "2021-04-22T18:57:08.847359Z"
    },
    "id": "8Rx2jAeSGmFQ",
    "outputId": "e31d628d-c0a6-4e48-8f94-a50ce74e28d2",
    "papermill": {
     "duration": 0.058668,
     "end_time": "2021-04-22T18:57:08.847613",
     "exception": false,
     "start_time": "2021-04-22T18:57:08.788945",
     "status": "completed"
    },
    "tags": []
   },
   "outputs": [],
   "source": [
    "# creat folder\n",
    "os.makedirs(\"./self_cas_study\", exist_ok=True)"
   ]
  },
  {
   "cell_type": "code",
   "execution_count": 6,
   "id": "adolescent-peter",
   "metadata": {
    "execution": {
     "iopub.execute_input": "2021-04-22T18:57:08.962124Z",
     "iopub.status.busy": "2021-04-22T18:57:08.961200Z",
     "iopub.status.idle": "2021-04-22T18:57:09.175111Z",
     "shell.execute_reply": "2021-04-22T18:57:09.176430Z"
    },
    "papermill": {
     "duration": 0.273064,
     "end_time": "2021-04-22T18:57:09.176642",
     "exception": false,
     "start_time": "2021-04-22T18:57:08.903578",
     "status": "completed"
    },
    "tags": []
   },
   "outputs": [
    {
     "name": "stdout",
     "output_type": "stream",
     "text": [
      "(67914, 8)\n"
     ]
    },
    {
     "data": {
      "text/html": [
       "<div>\n",
       "<style scoped>\n",
       "    .dataframe tbody tr th:only-of-type {\n",
       "        vertical-align: middle;\n",
       "    }\n",
       "\n",
       "    .dataframe tbody tr th {\n",
       "        vertical-align: top;\n",
       "    }\n",
       "\n",
       "    .dataframe thead th {\n",
       "        text-align: right;\n",
       "    }\n",
       "</style>\n",
       "<table border=\"1\" class=\"dataframe\">\n",
       "  <thead>\n",
       "    <tr style=\"text-align: right;\">\n",
       "      <th></th>\n",
       "      <th>image_id</th>\n",
       "      <th>class_name</th>\n",
       "      <th>class_id</th>\n",
       "      <th>rad_id</th>\n",
       "      <th>x_min</th>\n",
       "      <th>y_min</th>\n",
       "      <th>x_max</th>\n",
       "      <th>y_max</th>\n",
       "    </tr>\n",
       "  </thead>\n",
       "  <tbody>\n",
       "    <tr>\n",
       "      <th>0</th>\n",
       "      <td>50a418190bc3fb1ef1633bf9678929b3</td>\n",
       "      <td>No finding</td>\n",
       "      <td>14</td>\n",
       "      <td>R11</td>\n",
       "      <td>NaN</td>\n",
       "      <td>NaN</td>\n",
       "      <td>NaN</td>\n",
       "      <td>NaN</td>\n",
       "    </tr>\n",
       "    <tr>\n",
       "      <th>1</th>\n",
       "      <td>21a10246a5ec7af151081d0cd6d65dc9</td>\n",
       "      <td>No finding</td>\n",
       "      <td>14</td>\n",
       "      <td>R7</td>\n",
       "      <td>NaN</td>\n",
       "      <td>NaN</td>\n",
       "      <td>NaN</td>\n",
       "      <td>NaN</td>\n",
       "    </tr>\n",
       "    <tr>\n",
       "      <th>2</th>\n",
       "      <td>9a5094b2563a1ef3ff50dc5c7ff71345</td>\n",
       "      <td>Cardiomegaly</td>\n",
       "      <td>3</td>\n",
       "      <td>R10</td>\n",
       "      <td>691.0</td>\n",
       "      <td>1375.0</td>\n",
       "      <td>1653.0</td>\n",
       "      <td>1831.0</td>\n",
       "    </tr>\n",
       "    <tr>\n",
       "      <th>3</th>\n",
       "      <td>051132a778e61a86eb147c7c6f564dfe</td>\n",
       "      <td>Aortic enlargement</td>\n",
       "      <td>0</td>\n",
       "      <td>R10</td>\n",
       "      <td>1264.0</td>\n",
       "      <td>743.0</td>\n",
       "      <td>1611.0</td>\n",
       "      <td>1019.0</td>\n",
       "    </tr>\n",
       "    <tr>\n",
       "      <th>4</th>\n",
       "      <td>063319de25ce7edb9b1c6b8881290140</td>\n",
       "      <td>No finding</td>\n",
       "      <td>14</td>\n",
       "      <td>R10</td>\n",
       "      <td>NaN</td>\n",
       "      <td>NaN</td>\n",
       "      <td>NaN</td>\n",
       "      <td>NaN</td>\n",
       "    </tr>\n",
       "  </tbody>\n",
       "</table>\n",
       "</div>"
      ],
      "text/plain": [
       "                           image_id          class_name  class_id rad_id  \\\n",
       "0  50a418190bc3fb1ef1633bf9678929b3          No finding        14    R11   \n",
       "1  21a10246a5ec7af151081d0cd6d65dc9          No finding        14     R7   \n",
       "2  9a5094b2563a1ef3ff50dc5c7ff71345        Cardiomegaly         3    R10   \n",
       "3  051132a778e61a86eb147c7c6f564dfe  Aortic enlargement         0    R10   \n",
       "4  063319de25ce7edb9b1c6b8881290140          No finding        14    R10   \n",
       "\n",
       "    x_min   y_min   x_max   y_max  \n",
       "0     NaN     NaN     NaN     NaN  \n",
       "1     NaN     NaN     NaN     NaN  \n",
       "2   691.0  1375.0  1653.0  1831.0  \n",
       "3  1264.0   743.0  1611.0  1019.0  \n",
       "4     NaN     NaN     NaN     NaN  "
      ]
     },
     "execution_count": 6,
     "metadata": {},
     "output_type": "execute_result"
    }
   ],
   "source": [
    "# the train set metadata, with one row for each object, including a class and a bounding box. \n",
    "df_train = pd.read_csv('../input/vinbigdata-chest-xray-abnormalities-detection/train.csv') \n",
    "print(df_train.shape)\n",
    "df_train.head()"
   ]
  },
  {
   "cell_type": "markdown",
   "id": "determined-verification",
   "metadata": {
    "papermill": {
     "duration": 0.046717,
     "end_time": "2021-04-22T18:57:09.343842",
     "exception": false,
     "start_time": "2021-04-22T18:57:09.297125",
     "status": "completed"
    },
    "tags": []
   },
   "source": [
    "In EDA we created files which stores the 15000 images and its respective class. Images is lables as '1' if No lung diseases find in image and '0' if images aslung diseases"
   ]
  },
  {
   "cell_type": "code",
   "execution_count": 7,
   "id": "extended-representative",
   "metadata": {
    "execution": {
     "iopub.execute_input": "2021-04-22T18:57:09.433971Z",
     "iopub.status.busy": "2021-04-22T18:57:09.433231Z",
     "iopub.status.idle": "2021-04-22T18:57:09.640834Z",
     "shell.execute_reply": "2021-04-22T18:57:09.640056Z"
    },
    "id": "T0lP2abHGoXU",
    "outputId": "8e795ac3-63d2-4189-ee83-768cfbaa207d",
    "papermill": {
     "duration": 0.255968,
     "end_time": "2021-04-22T18:57:09.640976",
     "exception": false,
     "start_time": "2021-04-22T18:57:09.385008",
     "status": "completed"
    },
    "tags": []
   },
   "outputs": [
    {
     "name": "stdout",
     "output_type": "stream",
     "text": [
      "(15000, 2)\n"
     ]
    },
    {
     "data": {
      "text/html": [
       "<div>\n",
       "<style scoped>\n",
       "    .dataframe tbody tr th:only-of-type {\n",
       "        vertical-align: middle;\n",
       "    }\n",
       "\n",
       "    .dataframe tbody tr th {\n",
       "        vertical-align: top;\n",
       "    }\n",
       "\n",
       "    .dataframe thead th {\n",
       "        text-align: right;\n",
       "    }\n",
       "</style>\n",
       "<table border=\"1\" class=\"dataframe\">\n",
       "  <thead>\n",
       "    <tr style=\"text-align: right;\">\n",
       "      <th></th>\n",
       "      <th>target</th>\n",
       "      <th>img_path</th>\n",
       "    </tr>\n",
       "  </thead>\n",
       "  <tbody>\n",
       "    <tr>\n",
       "      <th>0</th>\n",
       "      <td>1</td>\n",
       "      <td>../input/vinbigdata/train/000434271f63a053c412...</td>\n",
       "    </tr>\n",
       "    <tr>\n",
       "      <th>1</th>\n",
       "      <td>1</td>\n",
       "      <td>../input/vinbigdata/train/00053190460d56c53cc3...</td>\n",
       "    </tr>\n",
       "    <tr>\n",
       "      <th>2</th>\n",
       "      <td>0</td>\n",
       "      <td>../input/vinbigdata/train/0005e8e3701dfb1dd93d...</td>\n",
       "    </tr>\n",
       "    <tr>\n",
       "      <th>3</th>\n",
       "      <td>1</td>\n",
       "      <td>../input/vinbigdata/train/0006e0a85696f6bb578e...</td>\n",
       "    </tr>\n",
       "    <tr>\n",
       "      <th>4</th>\n",
       "      <td>0</td>\n",
       "      <td>../input/vinbigdata/train/0007d316f756b3fa0bae...</td>\n",
       "    </tr>\n",
       "  </tbody>\n",
       "</table>\n",
       "</div>"
      ],
      "text/plain": [
       "   target                                           img_path\n",
       "0       1  ../input/vinbigdata/train/000434271f63a053c412...\n",
       "1       1  ../input/vinbigdata/train/00053190460d56c53cc3...\n",
       "2       0  ../input/vinbigdata/train/0005e8e3701dfb1dd93d...\n",
       "3       1  ../input/vinbigdata/train/0006e0a85696f6bb578e...\n",
       "4       0  ../input/vinbigdata/train/0007d316f756b3fa0bae..."
      ]
     },
     "execution_count": 7,
     "metadata": {},
     "output_type": "execute_result"
    }
   ],
   "source": [
    "#load classfication.csv file\n",
    "df = pd.read_csv('../input/personil/classfication.csv') \n",
    "print(df.shape)\n",
    "df.head()"
   ]
  },
  {
   "cell_type": "markdown",
   "id": "abroad-healthcare",
   "metadata": {
    "papermill": {
     "duration": 0.040144,
     "end_time": "2021-04-22T18:57:09.710779",
     "exception": false,
     "start_time": "2021-04-22T18:57:09.670635",
     "status": "completed"
    },
    "tags": []
   },
   "source": [
    "**This model takes input images of shape (224, 224, 3)**"
   ]
  },
  {
   "cell_type": "code",
   "execution_count": 8,
   "id": "broad-criticism",
   "metadata": {
    "execution": {
     "iopub.execute_input": "2021-04-22T18:57:09.805648Z",
     "iopub.status.busy": "2021-04-22T18:57:09.804820Z",
     "iopub.status.idle": "2021-04-22T18:57:09.806889Z",
     "shell.execute_reply": "2021-04-22T18:57:09.806301Z"
    },
    "id": "OFn9kDcTl66c",
    "papermill": {
     "duration": 0.053669,
     "end_time": "2021-04-22T18:57:09.807027",
     "exception": false,
     "start_time": "2021-04-22T18:57:09.753358",
     "status": "completed"
    },
    "tags": []
   },
   "outputs": [],
   "source": [
    "# Specify image size\n",
    "IMG_WIDTH = 224\n",
    "IMG_HEIGHT = 224\n",
    "CHANNELS = 3"
   ]
  },
  {
   "cell_type": "code",
   "execution_count": 9,
   "id": "pending-funeral",
   "metadata": {
    "execution": {
     "iopub.execute_input": "2021-04-22T18:57:09.901564Z",
     "iopub.status.busy": "2021-04-22T18:57:09.900909Z",
     "iopub.status.idle": "2021-04-22T18:57:09.916339Z",
     "shell.execute_reply": "2021-04-22T18:57:09.917239Z"
    },
    "id": "4OuPw45rUEuf",
    "papermill": {
     "duration": 0.066076,
     "end_time": "2021-04-22T18:57:09.917399",
     "exception": false,
     "start_time": "2021-04-22T18:57:09.851323",
     "status": "completed"
    },
    "tags": []
   },
   "outputs": [],
   "source": [
    "# load the test samples\n",
    "test_df = pd.read_csv('../input/vinbigdata-chest-xray-abnormalities-detection/sample_submission.csv') "
   ]
  },
  {
   "cell_type": "code",
   "execution_count": 10,
   "id": "guided-desire",
   "metadata": {
    "execution": {
     "iopub.execute_input": "2021-04-22T18:57:10.008284Z",
     "iopub.status.busy": "2021-04-22T18:57:10.007633Z",
     "iopub.status.idle": "2021-04-22T18:57:10.011238Z",
     "shell.execute_reply": "2021-04-22T18:57:10.010786Z"
    },
    "id": "I8_4jQ7zUNtt",
    "papermill": {
     "duration": 0.040041,
     "end_time": "2021-04-22T18:57:10.011343",
     "exception": false,
     "start_time": "2021-04-22T18:57:09.971302",
     "status": "completed"
    },
    "tags": []
   },
   "outputs": [],
   "source": [
    "# add .png to images id\n",
    "def append_ext(fn):\n",
    "  return fn+\".png\"\n",
    "test_df[\"img_id\"]=test_df[\"image_id\"].apply(append_ext)"
   ]
  },
  {
   "cell_type": "code",
   "execution_count": 11,
   "id": "broke-august",
   "metadata": {
    "execution": {
     "iopub.execute_input": "2021-04-22T18:57:10.077601Z",
     "iopub.status.busy": "2021-04-22T18:57:10.077128Z",
     "iopub.status.idle": "2021-04-22T18:57:10.081659Z",
     "shell.execute_reply": "2021-04-22T18:57:10.082046Z"
    },
    "papermill": {
     "duration": 0.041048,
     "end_time": "2021-04-22T18:57:10.082168",
     "exception": false,
     "start_time": "2021-04-22T18:57:10.041120",
     "status": "completed"
    },
    "tags": []
   },
   "outputs": [
    {
     "data": {
      "text/html": [
       "<div>\n",
       "<style scoped>\n",
       "    .dataframe tbody tr th:only-of-type {\n",
       "        vertical-align: middle;\n",
       "    }\n",
       "\n",
       "    .dataframe tbody tr th {\n",
       "        vertical-align: top;\n",
       "    }\n",
       "\n",
       "    .dataframe thead th {\n",
       "        text-align: right;\n",
       "    }\n",
       "</style>\n",
       "<table border=\"1\" class=\"dataframe\">\n",
       "  <thead>\n",
       "    <tr style=\"text-align: right;\">\n",
       "      <th></th>\n",
       "      <th>image_id</th>\n",
       "      <th>PredictionString</th>\n",
       "      <th>img_id</th>\n",
       "    </tr>\n",
       "  </thead>\n",
       "  <tbody>\n",
       "    <tr>\n",
       "      <th>0</th>\n",
       "      <td>002a34c58c5b758217ed1f584ccbcfe9</td>\n",
       "      <td>14 1 0 0 1 1</td>\n",
       "      <td>002a34c58c5b758217ed1f584ccbcfe9.png</td>\n",
       "    </tr>\n",
       "    <tr>\n",
       "      <th>1</th>\n",
       "      <td>004f33259ee4aef671c2b95d54e4be68</td>\n",
       "      <td>14 1 0 0 1 1</td>\n",
       "      <td>004f33259ee4aef671c2b95d54e4be68.png</td>\n",
       "    </tr>\n",
       "    <tr>\n",
       "      <th>2</th>\n",
       "      <td>008bdde2af2462e86fd373a445d0f4cd</td>\n",
       "      <td>14 1 0 0 1 1</td>\n",
       "      <td>008bdde2af2462e86fd373a445d0f4cd.png</td>\n",
       "    </tr>\n",
       "    <tr>\n",
       "      <th>3</th>\n",
       "      <td>009bc039326338823ca3aa84381f17f1</td>\n",
       "      <td>14 1 0 0 1 1</td>\n",
       "      <td>009bc039326338823ca3aa84381f17f1.png</td>\n",
       "    </tr>\n",
       "    <tr>\n",
       "      <th>4</th>\n",
       "      <td>00a2145de1886cb9eb88869c85d74080</td>\n",
       "      <td>14 1 0 0 1 1</td>\n",
       "      <td>00a2145de1886cb9eb88869c85d74080.png</td>\n",
       "    </tr>\n",
       "  </tbody>\n",
       "</table>\n",
       "</div>"
      ],
      "text/plain": [
       "                           image_id PredictionString  \\\n",
       "0  002a34c58c5b758217ed1f584ccbcfe9     14 1 0 0 1 1   \n",
       "1  004f33259ee4aef671c2b95d54e4be68     14 1 0 0 1 1   \n",
       "2  008bdde2af2462e86fd373a445d0f4cd     14 1 0 0 1 1   \n",
       "3  009bc039326338823ca3aa84381f17f1     14 1 0 0 1 1   \n",
       "4  00a2145de1886cb9eb88869c85d74080     14 1 0 0 1 1   \n",
       "\n",
       "                                 img_id  \n",
       "0  002a34c58c5b758217ed1f584ccbcfe9.png  \n",
       "1  004f33259ee4aef671c2b95d54e4be68.png  \n",
       "2  008bdde2af2462e86fd373a445d0f4cd.png  \n",
       "3  009bc039326338823ca3aa84381f17f1.png  \n",
       "4  00a2145de1886cb9eb88869c85d74080.png  "
      ]
     },
     "execution_count": 11,
     "metadata": {},
     "output_type": "execute_result"
    }
   ],
   "source": [
    "test_df.head()"
   ]
  },
  {
   "cell_type": "code",
   "execution_count": 12,
   "id": "binary-dressing",
   "metadata": {
    "execution": {
     "iopub.execute_input": "2021-04-22T18:57:10.170980Z",
     "iopub.status.busy": "2021-04-22T18:57:10.170220Z",
     "iopub.status.idle": "2021-04-22T18:57:10.184133Z",
     "shell.execute_reply": "2021-04-22T18:57:10.183705Z"
    },
    "id": "1_wglq9mFLwZ",
    "papermill": {
     "duration": 0.072915,
     "end_time": "2021-04-22T18:57:10.184245",
     "exception": false,
     "start_time": "2021-04-22T18:57:10.111330",
     "status": "completed"
    },
    "tags": []
   },
   "outputs": [],
   "source": [
    "# adding .png to image index\n",
    "df['img_id']= df.img_path.str.split('/',expand=True)[4]"
   ]
  },
  {
   "cell_type": "code",
   "execution_count": 13,
   "id": "seeing-experiment",
   "metadata": {
    "execution": {
     "iopub.execute_input": "2021-04-22T18:57:10.249410Z",
     "iopub.status.busy": "2021-04-22T18:57:10.248167Z",
     "iopub.status.idle": "2021-04-22T18:57:10.250929Z",
     "shell.execute_reply": "2021-04-22T18:57:10.250459Z"
    },
    "id": "3sLEyvWjT-3Y",
    "papermill": {
     "duration": 0.036678,
     "end_time": "2021-04-22T18:57:10.251060",
     "exception": false,
     "start_time": "2021-04-22T18:57:10.214382",
     "status": "completed"
    },
    "tags": []
   },
   "outputs": [],
   "source": [
    "#x_train,x_val= train_test_split(df,test_size=0.25,shuffle=True,stratify=df.target)"
   ]
  },
  {
   "cell_type": "code",
   "execution_count": 14,
   "id": "instructional-straight",
   "metadata": {
    "execution": {
     "iopub.execute_input": "2021-04-22T18:57:10.315680Z",
     "iopub.status.busy": "2021-04-22T18:57:10.315112Z",
     "iopub.status.idle": "2021-04-22T18:57:10.318529Z",
     "shell.execute_reply": "2021-04-22T18:57:10.318910Z"
    },
    "id": "hOlm1q4dIahI",
    "papermill": {
     "duration": 0.037285,
     "end_time": "2021-04-22T18:57:10.319033",
     "exception": false,
     "start_time": "2021-04-22T18:57:10.281748",
     "status": "completed"
    },
    "tags": []
   },
   "outputs": [],
   "source": [
    "#Verifying the dimension after one hot encoding\n",
    "#print(x_train.shape)\n",
    "#print(x_val.shape)"
   ]
  },
  {
   "cell_type": "code",
   "execution_count": 15,
   "id": "literary-shannon",
   "metadata": {
    "execution": {
     "iopub.execute_input": "2021-04-22T18:57:10.386815Z",
     "iopub.status.busy": "2021-04-22T18:57:10.386272Z",
     "iopub.status.idle": "2021-04-22T18:57:10.389339Z",
     "shell.execute_reply": "2021-04-22T18:57:10.389715Z"
    },
    "id": "e6YAd9z2Q72x",
    "papermill": {
     "duration": 0.038982,
     "end_time": "2021-04-22T18:57:10.389835",
     "exception": false,
     "start_time": "2021-04-22T18:57:10.350853",
     "status": "completed"
    },
    "tags": []
   },
   "outputs": [
    {
     "data": {
      "text/plain": [
       "\"DATA_PATH = '/content/drive/MyDrive/self case study 2/train'\\noutput_path= '/content/drive/MyDrive/self case study 2/'\\ndef process_data(data,data_type='train_img'):\\n  for _,row in tqdm(data.iterrows(),total=len(data)):\\n    image_name= row['img_id']\\n    shutil.copyfile(os.path.join(DATA_PATH,image_name),os.path.join(output_path,f'{data_type}/{image_name}'))\""
      ]
     },
     "execution_count": 15,
     "metadata": {},
     "output_type": "execute_result"
    }
   ],
   "source": [
    "'''DATA_PATH = '/content/drive/MyDrive/self case study 2/train'\n",
    "output_path= '/content/drive/MyDrive/self case study 2/'\n",
    "def process_data(data,data_type='train_img'):\n",
    "  for _,row in tqdm(data.iterrows(),total=len(data)):\n",
    "    image_name= row['img_id']\n",
    "    shutil.copyfile(os.path.join(DATA_PATH,image_name),os.path.join(output_path,f'{data_type}/{image_name}'))'''"
   ]
  },
  {
   "cell_type": "code",
   "execution_count": 16,
   "id": "hairy-dryer",
   "metadata": {
    "execution": {
     "iopub.execute_input": "2021-04-22T18:57:10.453747Z",
     "iopub.status.busy": "2021-04-22T18:57:10.453271Z",
     "iopub.status.idle": "2021-04-22T18:57:10.457034Z",
     "shell.execute_reply": "2021-04-22T18:57:10.456580Z"
    },
    "id": "mxVcdxdkU_qZ",
    "papermill": {
     "duration": 0.036791,
     "end_time": "2021-04-22T18:57:10.457133",
     "exception": false,
     "start_time": "2021-04-22T18:57:10.420342",
     "status": "completed"
    },
    "tags": []
   },
   "outputs": [],
   "source": [
    "#process_data(x_train,data_type='train_img') \n",
    "#process_data(x_val,data_type='val_img') "
   ]
  },
  {
   "cell_type": "markdown",
   "id": "prepared-albert",
   "metadata": {
    "papermill": {
     "duration": 0.030416,
     "end_time": "2021-04-22T18:57:10.518324",
     "exception": false,
     "start_time": "2021-04-22T18:57:10.487908",
     "status": "completed"
    },
    "tags": []
   },
   "source": [
    "**Image augmentation**"
   ]
  },
  {
   "cell_type": "code",
   "execution_count": 17,
   "id": "checked-chaos",
   "metadata": {
    "execution": {
     "iopub.execute_input": "2021-04-22T18:57:10.583859Z",
     "iopub.status.busy": "2021-04-22T18:57:10.583377Z",
     "iopub.status.idle": "2021-04-22T18:57:10.587091Z",
     "shell.execute_reply": "2021-04-22T18:57:10.586694Z"
    },
    "id": "Erd87QTEiO4D",
    "papermill": {
     "duration": 0.038191,
     "end_time": "2021-04-22T18:57:10.587192",
     "exception": false,
     "start_time": "2021-04-22T18:57:10.549001",
     "status": "completed"
    },
    "tags": []
   },
   "outputs": [],
   "source": [
    "# we are applying data image augmentation\n",
    "datagen= ImageDataGenerator(rotation_range=20,\n",
    "                                   width_shift_range=0.2,\n",
    "                                   height_shift_range=0.2,\n",
    "                                   zoom_range=0.2,\n",
    "                                   featurewise_center=True,\n",
    "                                   featurewise_std_normalization=True,\n",
    "                                   brightness_range=[0.3,0.6],\n",
    "                                   horizontal_flip=True,\n",
    "                                   vertical_flip=False,\n",
    "                                   fill_mode=\"wrap\",rescale=1/255., validation_split=0.2)"
   ]
  },
  {
   "cell_type": "code",
   "execution_count": 18,
   "id": "divine-momentum",
   "metadata": {
    "execution": {
     "iopub.execute_input": "2021-04-22T18:57:10.675575Z",
     "iopub.status.busy": "2021-04-22T18:57:10.670427Z",
     "iopub.status.idle": "2021-04-22T18:58:09.312402Z",
     "shell.execute_reply": "2021-04-22T18:58:09.311615Z"
    },
    "id": "HXHU8Ci-bXLZ",
    "outputId": "f77b2d13-fb85-43d7-9bb8-8e1dc9ed3209",
    "papermill": {
     "duration": 58.695274,
     "end_time": "2021-04-22T18:58:09.312528",
     "exception": false,
     "start_time": "2021-04-22T18:57:10.617254",
     "status": "completed"
    },
    "tags": []
   },
   "outputs": [
    {
     "name": "stdout",
     "output_type": "stream",
     "text": [
      "Found 12000 validated image filenames.\n",
      "Found 3000 validated image filenames.\n"
     ]
    }
   ],
   "source": [
    "train_generator = datagen.flow_from_dataframe(dataframe=df, directory='../input/vinbigdata/train',\n",
    "                                             x_col='img_id',\n",
    "                                             y_col='target',\n",
    "                                             class_mode='raw',\n",
    "                                             target_size=(IMG_WIDTH, IMG_HEIGHT),\n",
    "                                             batch_size=64,\n",
    "                                             subset='training',seed=42,shuffle=True)\n",
    "validation_generator = datagen.flow_from_dataframe(dataframe=df, directory='../input/vinbigdata/train',\n",
    "                                             x_col='img_id',\n",
    "                                             y_col='target',\n",
    "                                             class_mode='raw',\n",
    "                                             target_size=(IMG_WIDTH, IMG_HEIGHT),\n",
    "                                             batch_size=64,\n",
    "                                             subset='validation',seed=42,shuffle=False)"
   ]
  },
  {
   "cell_type": "code",
   "execution_count": 19,
   "id": "sized-gauge",
   "metadata": {
    "execution": {
     "iopub.execute_input": "2021-04-22T18:58:09.386967Z",
     "iopub.status.busy": "2021-04-22T18:58:09.386450Z",
     "iopub.status.idle": "2021-04-22T18:58:20.364229Z",
     "shell.execute_reply": "2021-04-22T18:58:20.363772Z"
    },
    "id": "obPDBZ1zOdKn",
    "outputId": "6bb13518-69f1-440e-c4f1-b9c7cf46cf34",
    "papermill": {
     "duration": 11.020507,
     "end_time": "2021-04-22T18:58:20.364355",
     "exception": false,
     "start_time": "2021-04-22T18:58:09.343848",
     "status": "completed"
    },
    "tags": []
   },
   "outputs": [
    {
     "name": "stdout",
     "output_type": "stream",
     "text": [
      "Found 3000 validated image filenames.\n"
     ]
    }
   ],
   "source": [
    "# create pipleline on test data\n",
    "test_datagen = ImageDataGenerator(rescale=1/255)\n",
    "test_generator=test_datagen.flow_from_dataframe(dataframe=test_df,directory=\"../input/vinbigdata/test\",\n",
    "                                           x_col=\"img_id\",\n",
    "                                           y_col=None,\n",
    "                                           batch_size=1,seed=42,shuffle=False,\n",
    "                                           target_size=(IMG_WIDTH, IMG_HEIGHT),\n",
    "                                           class_mode=None)"
   ]
  },
  {
   "cell_type": "markdown",
   "id": "informal-sarah",
   "metadata": {
    "id": "gKKjxIRP6Tba",
    "papermill": {
     "duration": 0.03265,
     "end_time": "2021-04-22T18:58:20.428686",
     "exception": false,
     "start_time": "2021-04-22T18:58:20.396036",
     "status": "completed"
    },
    "tags": []
   },
   "source": [
    "# Training a model from scratch"
   ]
  },
  {
   "cell_type": "code",
   "execution_count": 20,
   "id": "continuing-sound",
   "metadata": {
    "execution": {
     "iopub.execute_input": "2021-04-22T18:58:20.497777Z",
     "iopub.status.busy": "2021-04-22T18:58:20.497269Z",
     "iopub.status.idle": "2021-04-22T18:58:27.115160Z",
     "shell.execute_reply": "2021-04-22T18:58:27.115753Z"
    },
    "id": "jyfhBg53T-3a",
    "outputId": "285aea51-fe52-4cc5-846a-3d410d61c7d1",
    "papermill": {
     "duration": 6.655601,
     "end_time": "2021-04-22T18:58:27.115957",
     "exception": false,
     "start_time": "2021-04-22T18:58:20.460356",
     "status": "completed"
    },
    "tags": []
   },
   "outputs": [
    {
     "name": "stdout",
     "output_type": "stream",
     "text": [
      "Downloading data from https://github.com/titu1994/keras-efficientnets/releases/download/v0.1/efficientnet-b0_notop.h5\n",
      "16719872/16717576 [==============================] - 1s 0us/step\n",
      "Model: \"sequential\"\n",
      "_________________________________________________________________\n",
      "Layer (type)                 Output Shape              Param #   \n",
      "=================================================================\n",
      "model (Functional)           (None, 7, 7, 1280)        4049564   \n",
      "_________________________________________________________________\n",
      "flatten (Flatten)            (None, 62720)             0         \n",
      "_________________________________________________________________\n",
      "dense (Dense)                (None, 256)               16056576  \n",
      "_________________________________________________________________\n",
      "dropout (Dropout)            (None, 256)               0         \n",
      "_________________________________________________________________\n",
      "dense_1 (Dense)              (None, 128)               32896     \n",
      "_________________________________________________________________\n",
      "dropout_1 (Dropout)          (None, 128)               0         \n",
      "_________________________________________________________________\n",
      "dense_2 (Dense)              (None, 2)                 258       \n",
      "=================================================================\n",
      "Total params: 20,139,294\n",
      "Trainable params: 20,097,278\n",
      "Non-trainable params: 42,016\n",
      "_________________________________________________________________\n"
     ]
    }
   ],
   "source": [
    "NUM_CLASSES = 2\n",
    "#Defining the model\n",
    "model= Sequential()\n",
    "base_model = EfficientNetB0(include_top=False, weights=\"imagenet\", input_shape=(IMG_WIDTH, IMG_HEIGHT, 3),classes=NUM_CLASSES)\n",
    "model.add(base_model)\n",
    "model.add(Flatten())\n",
    "model.add(Dense(256,activation=('relu'))) \n",
    "model.add(Dropout(.3))\n",
    "model.add(Dense(128,activation=('relu')))\n",
    "model.add(Dropout(.2))\n",
    "model.add(Dense(2,activation=('softmax'))) \n",
    "\n",
    "#Model summary\n",
    "model.summary()"
   ]
  },
  {
   "cell_type": "code",
   "execution_count": 21,
   "id": "disabled-specific",
   "metadata": {
    "execution": {
     "iopub.execute_input": "2021-04-22T18:58:27.202265Z",
     "iopub.status.busy": "2021-04-22T18:58:27.201474Z",
     "iopub.status.idle": "2021-04-22T18:58:27.208478Z",
     "shell.execute_reply": "2021-04-22T18:58:27.207554Z"
    },
    "id": "gAXFXEUxT-3b",
    "papermill": {
     "duration": 0.055251,
     "end_time": "2021-04-22T18:58:27.208582",
     "exception": false,
     "start_time": "2021-04-22T18:58:27.153331",
     "status": "completed"
    },
    "tags": []
   },
   "outputs": [],
   "source": [
    "#Defining the parameters\n",
    "batch_size= 100\n",
    "#learn_rate=.001\n",
    "#sgd=SGD(lr=learn_rate,momentum=.9,nesterov=False) \n",
    "model.compile(optimizer=\"adam\", loss=\"sparse_categorical_crossentropy\", metrics=[\"acc\"])"
   ]
  },
  {
   "cell_type": "code",
   "execution_count": 22,
   "id": "operational-ownership",
   "metadata": {
    "execution": {
     "iopub.execute_input": "2021-04-22T18:58:27.285611Z",
     "iopub.status.busy": "2021-04-22T18:58:27.285100Z",
     "iopub.status.idle": "2021-04-22T18:58:27.288445Z",
     "shell.execute_reply": "2021-04-22T18:58:27.288807Z"
    },
    "id": "IhkWCKUmVv6q",
    "papermill": {
     "duration": 0.04411,
     "end_time": "2021-04-22T18:58:27.288943",
     "exception": false,
     "start_time": "2021-04-22T18:58:27.244833",
     "status": "completed"
    },
    "tags": []
   },
   "outputs": [],
   "source": [
    "train_steps = train_generator.n//train_generator.batch_size\n",
    "validation_steps = validation_generator.n//validation_generator.batch_size"
   ]
  },
  {
   "cell_type": "code",
   "execution_count": 23,
   "id": "cordless-renewal",
   "metadata": {
    "execution": {
     "iopub.execute_input": "2021-04-22T18:58:27.368459Z",
     "iopub.status.busy": "2021-04-22T18:58:27.366536Z",
     "iopub.status.idle": "2021-04-22T20:30:05.641309Z",
     "shell.execute_reply": "2021-04-22T20:30:05.640630Z"
    },
    "id": "xhGUTAJJT-3c",
    "outputId": "31fd2bb8-fa8b-4844-b6f7-b97a0ff436b2",
    "papermill": {
     "duration": 5498.315804,
     "end_time": "2021-04-22T20:30:05.641494",
     "exception": false,
     "start_time": "2021-04-22T18:58:27.325690",
     "status": "completed"
    },
    "tags": []
   },
   "outputs": [
    {
     "name": "stderr",
     "output_type": "stream",
     "text": [
      "/opt/conda/lib/python3.7/site-packages/keras_preprocessing/image/image_data_generator.py:720: UserWarning: This ImageDataGenerator specifies `featurewise_center`, but it hasn't been fit on any training data. Fit it first by calling `.fit(numpy_data)`.\n",
      "  warnings.warn('This ImageDataGenerator specifies '\n",
      "/opt/conda/lib/python3.7/site-packages/keras_preprocessing/image/image_data_generator.py:728: UserWarning: This ImageDataGenerator specifies `featurewise_std_normalization`, but it hasn't been fit on any training data. Fit it first by calling `.fit(numpy_data)`.\n",
      "  warnings.warn('This ImageDataGenerator specifies '\n"
     ]
    },
    {
     "name": "stdout",
     "output_type": "stream",
     "text": [
      "Epoch 1/20\n",
      "187/187 - 400s - loss: 0.4898 - acc: 0.8265 - val_loss: 7.5468 - val_acc: 0.7092\n",
      "\n",
      "Epoch 00001: val_acc improved from -inf to 0.70924, saving model to self_cas_study/models/best_model.h5\n",
      "Epoch 2/20\n",
      "187/187 - 269s - loss: 0.2654 - acc: 0.8923 - val_loss: 0.4969 - val_acc: 0.8662\n",
      "\n",
      "Epoch 00002: val_acc improved from 0.70924 to 0.86617, saving model to self_cas_study/models/best_model.h5\n",
      "Epoch 3/20\n",
      "187/187 - 269s - loss: 0.2252 - acc: 0.9083 - val_loss: 0.2652 - val_acc: 0.8835\n",
      "\n",
      "Epoch 00003: val_acc improved from 0.86617 to 0.88349, saving model to self_cas_study/models/best_model.h5\n",
      "Epoch 4/20\n",
      "187/187 - 268s - loss: 0.2152 - acc: 0.9163 - val_loss: 0.2897 - val_acc: 0.8723\n",
      "\n",
      "Epoch 00004: val_acc did not improve from 0.88349\n",
      "Epoch 5/20\n",
      "187/187 - 267s - loss: 0.2085 - acc: 0.9196 - val_loss: 0.2043 - val_acc: 0.9151\n",
      "\n",
      "Epoch 00005: val_acc improved from 0.88349 to 0.91508, saving model to self_cas_study/models/best_model.h5\n",
      "Epoch 6/20\n",
      "187/187 - 267s - loss: 0.1902 - acc: 0.9270 - val_loss: 0.3592 - val_acc: 0.8580\n",
      "\n",
      "Epoch 00006: val_acc did not improve from 0.91508\n",
      "Epoch 7/20\n",
      "187/187 - 267s - loss: 0.1857 - acc: 0.9252 - val_loss: 0.2021 - val_acc: 0.9239\n",
      "\n",
      "Epoch 00007: val_acc improved from 0.91508 to 0.92391, saving model to self_cas_study/models/best_model.h5\n",
      "Epoch 8/20\n",
      "187/187 - 265s - loss: 0.1659 - acc: 0.9328 - val_loss: 0.2498 - val_acc: 0.8964\n",
      "\n",
      "Epoch 00008: val_acc did not improve from 0.92391\n",
      "Epoch 9/20\n",
      "187/187 - 267s - loss: 0.1506 - acc: 0.9417 - val_loss: 0.1625 - val_acc: 0.9314\n",
      "\n",
      "Epoch 00009: val_acc improved from 0.92391 to 0.93139, saving model to self_cas_study/models/best_model.h5\n",
      "Epoch 10/20\n",
      "187/187 - 266s - loss: 0.1517 - acc: 0.9411 - val_loss: 0.2234 - val_acc: 0.9144\n",
      "\n",
      "Epoch 00010: val_acc did not improve from 0.93139\n",
      "Epoch 11/20\n",
      "187/187 - 267s - loss: 0.1511 - acc: 0.9426 - val_loss: 0.1663 - val_acc: 0.9334\n",
      "\n",
      "Epoch 00011: val_acc improved from 0.93139 to 0.93342, saving model to self_cas_study/models/best_model.h5\n",
      "Epoch 12/20\n",
      "187/187 - 270s - loss: 0.1426 - acc: 0.9438 - val_loss: 0.2024 - val_acc: 0.9249\n",
      "\n",
      "Epoch 00012: val_acc did not improve from 0.93342\n",
      "Epoch 13/20\n",
      "187/187 - 267s - loss: 0.1403 - acc: 0.9459 - val_loss: 0.2423 - val_acc: 0.9168\n",
      "\n",
      "Epoch 00013: val_acc did not improve from 0.93342\n",
      "Epoch 14/20\n",
      "187/187 - 268s - loss: 0.1374 - acc: 0.9492 - val_loss: 0.1848 - val_acc: 0.9293\n",
      "\n",
      "Epoch 00014: val_acc did not improve from 0.93342\n",
      "Epoch 15/20\n",
      "187/187 - 266s - loss: 0.1354 - acc: 0.9473 - val_loss: 0.1728 - val_acc: 0.9321\n",
      "\n",
      "Epoch 00015: val_acc did not improve from 0.93342\n",
      "Epoch 16/20\n",
      "187/187 - 270s - loss: 0.1368 - acc: 0.9484 - val_loss: 0.1853 - val_acc: 0.9314\n",
      "\n",
      "Epoch 00016: val_acc did not improve from 0.93342\n",
      "Epoch 17/20\n",
      "187/187 - 269s - loss: 0.1422 - acc: 0.9455 - val_loss: 0.1526 - val_acc: 0.9382\n",
      "\n",
      "Epoch 00017: val_acc improved from 0.93342 to 0.93818, saving model to self_cas_study/models/best_model.h5\n",
      "Epoch 18/20\n",
      "187/187 - 270s - loss: 0.1209 - acc: 0.9517 - val_loss: 0.2423 - val_acc: 0.9205\n",
      "\n",
      "Epoch 00018: val_acc did not improve from 0.93818\n",
      "Epoch 19/20\n",
      "187/187 - 269s - loss: 0.1293 - acc: 0.9486 - val_loss: 0.1944 - val_acc: 0.9317\n",
      "\n",
      "Epoch 00019: val_acc did not improve from 0.93818\n",
      "Epoch 20/20\n",
      "187/187 - 270s - loss: 0.1309 - acc: 0.9517 - val_loss: 0.1845 - val_acc: 0.9287\n",
      "\n",
      "Epoch 00020: val_acc did not improve from 0.93818\n"
     ]
    }
   ],
   "source": [
    "os.makedirs(\"self_cas_study/models\", exist_ok=True)\n",
    "train_steps = train_generator.n//train_generator.batch_size\n",
    "validation_steps = validation_generator.n//validation_generator.batch_size\n",
    "\n",
    "# check points\n",
    "checkpointer = ModelCheckpoint('self_cas_study/models/best_model.h5',monitor='val_acc',verbose=1,save_best_only=True,save_weights_only=True)\n",
    "\n",
    "history = model.fit(train_generator,steps_per_epoch=train_steps,verbose =2,epochs=20,validation_data=validation_generator,validation_steps=validation_steps,callbacks = [checkpointer])"
   ]
  },
  {
   "cell_type": "code",
   "execution_count": 24,
   "id": "humanitarian-allergy",
   "metadata": {
    "execution": {
     "iopub.execute_input": "2021-04-22T20:30:05.815461Z",
     "iopub.status.busy": "2021-04-22T20:30:05.814040Z",
     "iopub.status.idle": "2021-04-22T20:30:06.068645Z",
     "shell.execute_reply": "2021-04-22T20:30:06.069643Z"
    },
    "id": "1Y9cy8GiT-3b",
    "outputId": "c7ee0463-7584-4a5e-9a63-c6e9dd115f1b",
    "papermill": {
     "duration": 0.347533,
     "end_time": "2021-04-22T20:30:06.069856",
     "exception": false,
     "start_time": "2021-04-22T20:30:05.722323",
     "status": "completed"
    },
    "tags": []
   },
   "outputs": [
    {
     "data": {
      "image/png": "[encoded data removed]",
      "text/plain": [
       "<Figure size 432x288 with 1 Axes>"
      ]
     },
     "metadata": {
      "needs_background": "light"
     },
     "output_type": "display_data"
    }
   ],
   "source": [
    "def plot_hist(hist):\n",
    "  plt.plot(hist.history[\"acc\"])\n",
    "  plt.plot(hist.history[\"val_acc\"])\n",
    "  plt.title(\"model accuracy\")\n",
    "  plt.ylabel(\"accuracy\")\n",
    "  plt.xlabel(\"epoch\")\n",
    "  plt.legend([\"train\", \"validation\"], loc=\"upper left\")\n",
    "  plt.show()\n",
    "plot_hist(history)"
   ]
  },
  {
   "cell_type": "markdown",
   "id": "unlimited-nirvana",
   "metadata": {
    "papermill": {
     "duration": 0.080944,
     "end_time": "2021-04-22T20:30:06.237437",
     "exception": false,
     "start_time": "2021-04-22T20:30:06.156493",
     "status": "completed"
    },
    "tags": []
   },
   "source": [
    "# Evaluation"
   ]
  },
  {
   "cell_type": "code",
   "execution_count": 25,
   "id": "brazilian-cookbook",
   "metadata": {
    "execution": {
     "iopub.execute_input": "2021-04-22T20:30:06.349867Z",
     "iopub.status.busy": "2021-04-22T20:30:06.349119Z",
     "iopub.status.idle": "2021-04-22T20:31:01.654312Z",
     "shell.execute_reply": "2021-04-22T20:31:01.653740Z"
    },
    "id": "lO-qjsb6hnrw",
    "papermill": {
     "duration": 55.362074,
     "end_time": "2021-04-22T20:31:01.654451",
     "exception": false,
     "start_time": "2021-04-22T20:30:06.292377",
     "status": "completed"
    },
    "tags": []
   },
   "outputs": [
    {
     "name": "stderr",
     "output_type": "stream",
     "text": [
      "/opt/conda/lib/python3.7/site-packages/tensorflow/python/keras/engine/training.py:1877: UserWarning: `Model.evaluate_generator` is deprecated and will be removed in a future version. Please use `Model.evaluate`, which supports generators.\n",
      "  warnings.warn('`Model.evaluate_generator` is deprecated and '\n"
     ]
    }
   ],
   "source": [
    "# Evaluate the model \n",
    "loss, acc = model.evaluate_generator(validation_generator,validation_steps)"
   ]
  },
  {
   "cell_type": "code",
   "execution_count": 26,
   "id": "breathing-arkansas",
   "metadata": {
    "execution": {
     "iopub.execute_input": "2021-04-22T20:31:01.764430Z",
     "iopub.status.busy": "2021-04-22T20:31:01.763117Z",
     "iopub.status.idle": "2021-04-22T20:31:01.766774Z",
     "shell.execute_reply": "2021-04-22T20:31:01.766342Z"
    },
    "id": "yIyS_pBaPFvh",
    "outputId": "ac292471-311a-4506-a0d4-1b72c3fa38a9",
    "papermill": {
     "duration": 0.060105,
     "end_time": "2021-04-22T20:31:01.766896",
     "exception": false,
     "start_time": "2021-04-22T20:31:01.706791",
     "status": "completed"
    },
    "tags": []
   },
   "outputs": [
    {
     "name": "stdout",
     "output_type": "stream",
     "text": [
      "Restored model, accuracy: 93.17%\n",
      "Restored model, log-loss 0.18241988122463226:\n"
     ]
    }
   ],
   "source": [
    "# let's lookinto accuracy and log-loss \n",
    "print(\"Restored model, accuracy: {:5.2f}%\".format(100 * acc))\n",
    "print(\"Restored model, log-loss {}:\".format(loss))"
   ]
  },
  {
   "cell_type": "code",
   "execution_count": 27,
   "id": "married-wrist",
   "metadata": {
    "execution": {
     "iopub.execute_input": "2021-04-22T20:31:01.876450Z",
     "iopub.status.busy": "2021-04-22T20:31:01.875702Z",
     "iopub.status.idle": "2021-04-22T20:31:58.267440Z",
     "shell.execute_reply": "2021-04-22T20:31:58.266647Z"
    },
    "id": "Cx-HakZripCk",
    "outputId": "2f7434f7-f729-49d3-a2b1-2434676ca37b",
    "papermill": {
     "duration": 56.449228,
     "end_time": "2021-04-22T20:31:58.267572",
     "exception": false,
     "start_time": "2021-04-22T20:31:01.818344",
     "status": "completed"
    },
    "tags": []
   },
   "outputs": [
    {
     "name": "stderr",
     "output_type": "stream",
     "text": [
      "/opt/conda/lib/python3.7/site-packages/tensorflow/python/keras/engine/training.py:1905: UserWarning: `Model.predict_generator` is deprecated and will be removed in a future version. Please use `Model.predict`, which supports generators.\n",
      "  warnings.warn('`Model.predict_generator` is deprecated and '\n"
     ]
    },
    {
     "name": "stdout",
     "output_type": "stream",
     "text": [
      "93/93 [==============================] - 55s 573ms/step\n"
     ]
    }
   ],
   "source": [
    "# Let's predict on validation data \n",
    "true_lables = validation_generator.labels\n",
    "batch_size = 32\n",
    "nb_validation_samples = 3000\n",
    "steps = nb_validation_samples / batch_size\n",
    "predictions = model.predict_generator(validation_generator, steps,verbose=1)\n",
    "y_pred = np.array([np.argmax(x) for x in predictions])"
   ]
  },
  {
   "cell_type": "code",
   "execution_count": 28,
   "id": "graduate-contract",
   "metadata": {
    "execution": {
     "iopub.execute_input": "2021-04-22T20:31:58.401443Z",
     "iopub.status.busy": "2021-04-22T20:31:58.400784Z",
     "iopub.status.idle": "2021-04-22T20:31:58.404133Z",
     "shell.execute_reply": "2021-04-22T20:31:58.403688Z"
    },
    "papermill": {
     "duration": 0.072892,
     "end_time": "2021-04-22T20:31:58.404249",
     "exception": false,
     "start_time": "2021-04-22T20:31:58.331357",
     "status": "completed"
    },
    "tags": []
   },
   "outputs": [],
   "source": [
    "# creat data frame with ture values and predict values \n",
    "val_files = validation_generator.filenames\n",
    "val_compare = pd.DataFrame({\"Filename\":val_files,\"Abnormal\":predictions[:,0],\"Normal\":predictions[:,1],\"Ture_lab\":true_lables}) "
   ]
  },
  {
   "cell_type": "code",
   "execution_count": 29,
   "id": "contained-antique",
   "metadata": {
    "execution": {
     "iopub.execute_input": "2021-04-22T20:31:58.538731Z",
     "iopub.status.busy": "2021-04-22T20:31:58.537522Z",
     "iopub.status.idle": "2021-04-22T20:31:58.540265Z",
     "shell.execute_reply": "2021-04-22T20:31:58.539856Z"
    },
    "papermill": {
     "duration": 0.07229,
     "end_time": "2021-04-22T20:31:58.540370",
     "exception": false,
     "start_time": "2021-04-22T20:31:58.468080",
     "status": "completed"
    },
    "tags": []
   },
   "outputs": [],
   "source": [
    "# lets plot confusion matrix\n",
    "def plot_confusion_matrix(test_y, predict_y):\n",
    "  C = confusion_matrix(test_y, predict_y)\n",
    "  A =(((C.T)/(C.sum(axis=1))).T)\n",
    "  #divid each element of the confusion matrix with the sum of elements in that column \n",
    "  B =(C/C.sum(axis=0))\n",
    "  labels = [0,1]\n",
    "  # representing A in heatmap format\n",
    "  print(\"-\"*20, \"Confusion matrix\", \"-\"*20)\n",
    "  plt.figure(figsize=(8,8))\n",
    "  sns.heatmap(C, annot=True, cmap=\"YlGnBu\", fmt=\".3f\", xticklabels=labels, yticklabels=labels)\n",
    "  plt.xlabel('Predicted Class')\n",
    "  plt.ylabel('Original Class')\n",
    "  plt.show()"
   ]
  },
  {
   "cell_type": "code",
   "execution_count": 30,
   "id": "applied-couple",
   "metadata": {
    "execution": {
     "iopub.execute_input": "2021-04-22T20:31:58.671552Z",
     "iopub.status.busy": "2021-04-22T20:31:58.670808Z",
     "iopub.status.idle": "2021-04-22T20:31:58.848928Z",
     "shell.execute_reply": "2021-04-22T20:31:58.848496Z"
    },
    "papermill": {
     "duration": 0.245304,
     "end_time": "2021-04-22T20:31:58.849044",
     "exception": false,
     "start_time": "2021-04-22T20:31:58.603740",
     "status": "completed"
    },
    "tags": []
   },
   "outputs": [
    {
     "name": "stdout",
     "output_type": "stream",
     "text": [
      "-------------------- Confusion matrix --------------------\n"
     ]
    },
    {
     "data": {
      "image/png": "[encoded data removed]",
      "text/plain": [
       "<Figure size 576x576 with 2 Axes>"
      ]
     },
     "metadata": {
      "needs_background": "light"
     },
     "output_type": "display_data"
    }
   ],
   "source": [
    "plot_confusion_matrix(true_lables, y_pred)"
   ]
  },
  {
   "cell_type": "code",
   "execution_count": 31,
   "id": "modern-county",
   "metadata": {
    "execution": {
     "iopub.execute_input": "2021-04-22T20:31:59.035827Z",
     "iopub.status.busy": "2021-04-22T20:31:59.035326Z",
     "iopub.status.idle": "2021-04-22T20:31:59.038721Z",
     "shell.execute_reply": "2021-04-22T20:31:59.039310Z"
    },
    "papermill": {
     "duration": 0.125086,
     "end_time": "2021-04-22T20:31:59.039442",
     "exception": false,
     "start_time": "2021-04-22T20:31:58.914356",
     "status": "completed"
    },
    "tags": []
   },
   "outputs": [],
   "source": [
    "# Let see visual image how model is performing \n",
    "def Human_evaluation(img_id):\n",
    "  dataset_dir = '../input/vinbigdata/train'\n",
    "  # Define the paths to the training and testing dicom folders respectively\n",
    "  ture_data = df_train[df_train['image_id'] ==img_id]\n",
    "  img_path = append_ext(img_id)\n",
    "  pre_data = val_compare[val_compare['Filename'] == img_path ]\n",
    "  ture_class = ture_data.class_name.unique().tolist() \n",
    "  print(\"Ture image class are {}\".format(ture_class))\n",
    "  print(\"Probability that a person with Abnormal lung condition: {:5.2f}%\".format(pre_data.Abnormal.iloc[0]*100))\n",
    "  print(\"Probability that a person with Normal lung condition: {:5.2f}%\".format(pre_data.Normal.iloc[0]*100)) \n",
    "  path = os.path.join(dataset_dir,img_path)\n",
    "  img = mpimg.imread(path)\n",
    "  plt.imshow(img,cmap=\"gray\")"
   ]
  },
  {
   "cell_type": "code",
   "execution_count": 32,
   "id": "included-wings",
   "metadata": {
    "execution": {
     "iopub.execute_input": "2021-04-22T20:31:59.185516Z",
     "iopub.status.busy": "2021-04-22T20:31:59.184730Z",
     "iopub.status.idle": "2021-04-22T20:31:59.341455Z",
     "shell.execute_reply": "2021-04-22T20:31:59.340627Z"
    },
    "id": "pXybwj4IrVZK",
    "papermill": {
     "duration": 0.236308,
     "end_time": "2021-04-22T20:31:59.341570",
     "exception": false,
     "start_time": "2021-04-22T20:31:59.105262",
     "status": "completed"
    },
    "tags": []
   },
   "outputs": [
    {
     "name": "stdout",
     "output_type": "stream",
     "text": [
      "Ture image class are ['Pulmonary fibrosis', 'Pleural thickening', 'Cardiomegaly', 'Aortic enlargement', 'ILD']\n",
      "Probability that a person with Abnormal lung condition: 86.15%\n",
      "Probability that a person with Normal lung condition: 13.85%\n"
     ]
    },
    {
     "data": {
      "image/png": "[encoded data removed]",
      "text/plain": [
       "<Figure size 432x288 with 1 Axes>"
      ]
     },
     "metadata": {
      "needs_background": "light"
     },
     "output_type": "display_data"
    }
   ],
   "source": [
    "Human_evaluation(\"0007d316f756b3fa0baea2ff514ce945\")"
   ]
  },
  {
   "cell_type": "markdown",
   "id": "vocational-maria",
   "metadata": {
    "papermill": {
     "duration": 0.066572,
     "end_time": "2021-04-22T20:31:59.475555",
     "exception": false,
     "start_time": "2021-04-22T20:31:59.408983",
     "status": "completed"
    },
    "tags": []
   },
   "source": [
    "# Prediction"
   ]
  },
  {
   "cell_type": "code",
   "execution_count": 33,
   "id": "saved-personal",
   "metadata": {
    "execution": {
     "iopub.execute_input": "2021-04-22T20:31:59.683453Z",
     "iopub.status.busy": "2021-04-22T20:31:59.647449Z",
     "iopub.status.idle": "2021-04-22T20:31:59.890829Z",
     "shell.execute_reply": "2021-04-22T20:31:59.890008Z"
    },
    "papermill": {
     "duration": 0.348684,
     "end_time": "2021-04-22T20:31:59.890995",
     "exception": false,
     "start_time": "2021-04-22T20:31:59.542311",
     "status": "completed"
    },
    "tags": []
   },
   "outputs": [],
   "source": [
    "# Load the previously saved weights\n",
    "model.load_weights('./self_cas_study/models/best_model.h5')"
   ]
  },
  {
   "cell_type": "code",
   "execution_count": 34,
   "id": "intelligent-watson",
   "metadata": {
    "execution": {
     "iopub.execute_input": "2021-04-22T20:32:00.031352Z",
     "iopub.status.busy": "2021-04-22T20:32:00.030801Z",
     "iopub.status.idle": "2021-04-22T20:32:49.932448Z",
     "shell.execute_reply": "2021-04-22T20:32:49.931654Z"
    },
    "papermill": {
     "duration": 49.973793,
     "end_time": "2021-04-22T20:32:49.932580",
     "exception": false,
     "start_time": "2021-04-22T20:31:59.958787",
     "status": "completed"
    },
    "tags": []
   },
   "outputs": [
    {
     "name": "stderr",
     "output_type": "stream",
     "text": [
      "/opt/conda/lib/python3.7/site-packages/tensorflow/python/keras/engine/training.py:1905: UserWarning: `Model.predict_generator` is deprecated and will be removed in a future version. Please use `Model.predict`, which supports generators.\n",
      "  warnings.warn('`Model.predict_generator` is deprecated and '\n"
     ]
    },
    {
     "name": "stdout",
     "output_type": "stream",
     "text": [
      "3000/3000 [==============================] - 50s 16ms/step\n"
     ]
    }
   ],
   "source": [
    "# Let's predict on  test data \n",
    "filenames = test_generator.filenames\n",
    "predict = model.predict_generator(test_generator,steps =len(filenames),verbose=1) "
   ]
  },
  {
   "cell_type": "code",
   "execution_count": 35,
   "id": "minus-puzzle",
   "metadata": {
    "execution": {
     "iopub.execute_input": "2021-04-22T20:32:50.489223Z",
     "iopub.status.busy": "2021-04-22T20:32:50.488521Z",
     "iopub.status.idle": "2021-04-22T20:32:50.640195Z",
     "shell.execute_reply": "2021-04-22T20:32:50.639617Z"
    },
    "papermill": {
     "duration": 0.43268,
     "end_time": "2021-04-22T20:32:50.640338",
     "exception": false,
     "start_time": "2021-04-22T20:32:50.207658",
     "status": "completed"
    },
    "tags": []
   },
   "outputs": [],
   "source": [
    "results=pd.DataFrame({\"Filename\":filenames,\"Abnormal\":predict[:,0],\"Normal\":predict[:,1]}) \n",
    "results.to_csv('predection.csv')"
   ]
  },
  {
   "cell_type": "code",
   "execution_count": 36,
   "id": "wrong-attraction",
   "metadata": {
    "execution": {
     "iopub.execute_input": "2021-04-22T20:32:51.444156Z",
     "iopub.status.busy": "2021-04-22T20:32:51.442762Z",
     "iopub.status.idle": "2021-04-22T20:32:51.445599Z",
     "shell.execute_reply": "2021-04-22T20:32:51.445178Z"
    },
    "papermill": {
     "duration": 0.328592,
     "end_time": "2021-04-22T20:32:51.445715",
     "exception": false,
     "start_time": "2021-04-22T20:32:51.117123",
     "status": "completed"
    },
    "tags": []
   },
   "outputs": [],
   "source": [
    "# Let's see how model is perfoming on unseen images \n",
    "def image_prediction(img_id):\n",
    "  dataset_dir = '../input/vinbigdata/test'\n",
    "  img_path = append_ext(img_id)\n",
    "  pre_data = results[results['Filename'] == img_path ]\n",
    "  print(\"Probability that a person with Abnormal lung condition: {:5.2f}%\".format(pre_data.Abnormal.iloc[0]*100))\n",
    "  print(\"Probability that a person with Normal lung condition: {:5.2f}%\".format(pre_data.Normal.iloc[0]*100)) \n",
    "  path = os.path.join(dataset_dir,img_path)\n",
    "  img = mpimg.imread(path)\n",
    "  plt.imshow(img,cmap=\"Spectral\")"
   ]
  },
  {
   "cell_type": "code",
   "execution_count": 37,
   "id": "downtown-flood",
   "metadata": {
    "execution": {
     "iopub.execute_input": "2021-04-22T20:32:51.997637Z",
     "iopub.status.busy": "2021-04-22T20:32:51.997101Z",
     "iopub.status.idle": "2021-04-22T20:32:52.163834Z",
     "shell.execute_reply": "2021-04-22T20:32:52.164327Z"
    },
    "papermill": {
     "duration": 0.445932,
     "end_time": "2021-04-22T20:32:52.164490",
     "exception": false,
     "start_time": "2021-04-22T20:32:51.718558",
     "status": "completed"
    },
    "tags": []
   },
   "outputs": [
    {
     "name": "stdout",
     "output_type": "stream",
     "text": [
      "Probability that a person with Abnormal lung condition: 99.74%\n",
      "Probability that a person with Normal lung condition:  0.26%\n"
     ]
    },
    {
     "data": {
      "image/png": "[encoded data removed]",
      "text/plain": [
       "<Figure size 432x288 with 1 Axes>"
      ]
     },
     "metadata": {
      "needs_background": "light"
     },
     "output_type": "display_data"
    }
   ],
   "source": [
    "image_prediction('00a2145de1886cb9eb88869c85d74080')"
   ]
  }
 ],
 "metadata": {
  "kernelspec": {
   "display_name": "Python 3",
   "language": "python",
   "name": "python3"
  },
  "language_info": {
   "codemirror_mode": {
    "name": "ipython",
    "version": 3
   },
   "file_extension": ".py",
   "mimetype": "text/x-python",
   "name": "python",
   "nbconvert_exporter": "python",
   "pygments_lexer": "ipython3",
   "version": "3.7.10"
  },
  "papermill": {
   "default_parameters": {},
   "duration": 5780.171509,
   "end_time": "2021-04-22T20:32:56.216358",
   "environment_variables": {},
   "exception": null,
   "input_path": "__notebook__.ipynb",
   "output_path": "__notebook__.ipynb",
   "parameters": {},
   "start_time": "2021-04-22T18:56:36.044849",
   "version": "2.3.3"
  }
 },
 "nbformat": 4,
 "nbformat_minor": 5
}
